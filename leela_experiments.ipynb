{
  "nbformat": 4,
  "nbformat_minor": 0,
  "metadata": {
    "colab": {
      "name": "leela_experiments.ipynb",
      "provenance": [],
      "authorship_tag": "ABX9TyO1XG6e6Ou43gBql1Frog82",
      "include_colab_link": true
    },
    "kernelspec": {
      "name": "python3",
      "display_name": "Python 3"
    },
    "accelerator": "GPU"
  },
  "cells": [
    {
      "cell_type": "markdown",
      "metadata": {
        "id": "view-in-github",
        "colab_type": "text"
      },
      "source": [
        "<a href=\"https://colab.research.google.com/github/woanderer/miscellaneous/blob/master/leela_experiments.ipynb\" target=\"_parent\"><img src=\"https://colab.research.google.com/assets/colab-badge.svg\" alt=\"Open In Colab\"/></a>"
      ]
    },
    {
      "cell_type": "code",
      "metadata": {
        "id": "vR2zbKlbSlHz",
        "colab_type": "code",
        "colab": {}
      },
      "source": [
        "import torch\n",
        "import numpy as np\n",
        "\n",
        "import time\n",
        "\n",
        "import matplotlib.pyplot as plt"
      ],
      "execution_count": 21,
      "outputs": []
    },
    {
      "cell_type": "code",
      "metadata": {
        "id": "-NcusS2zv64i",
        "colab_type": "code",
        "colab": {}
      },
      "source": [
        "def generate_dfs_np(low, high, dim):\n",
        "  start = time.time()\n",
        "\n",
        "  on_taken = np.random.randint(low, high, size=dim)\n",
        "  off_taken = np.random.randint(low, high, size=dim)\n",
        "  taken_trials = on_taken + off_taken\n",
        "  on_not_taken = np.random.randint(low, high, size=dim)\n",
        "  off_not_taken = np.random.randint(low, high, size=dim)\n",
        "  not_taken_trials = on_not_taken + off_not_taken\n",
        "\n",
        "  p_on_taken = on_taken / taken_trials\n",
        "  p_off_taken = off_taken / taken_trials\n",
        "\n",
        "  p_on_not_taken = on_not_taken / not_taken_trials\n",
        "  p_off_not_taken = off_taken / taken_trials\n",
        "\n",
        "  return (on_taken, taken_trials,\n",
        "          off_taken, on_not_taken, \n",
        "          not_taken_trials, off_not_taken, \n",
        "          p_on_taken, p_off_taken, \n",
        "          p_on_not_taken, p_off_not_taken)"
      ],
      "execution_count": 22,
      "outputs": []
    },
    {
      "cell_type": "code",
      "metadata": {
        "id": "abE_0g-gNKTm",
        "colab_type": "code",
        "colab": {}
      },
      "source": [
        "def generate_dfs_cuda(low, high, dim):\n",
        "  start = time.time()\n",
        "\n",
        "  on_taken = torch.randint(low, high, dim, dtype=torch.float, device=torch.device('cuda'))\n",
        "  off_taken = torch.randint(low, high, dim, dtype=torch.float, device=torch.device('cuda'))\n",
        "  taken_trials = on_taken + off_taken\n",
        "  on_not_taken = torch.randint(low, high, dim, dtype=torch.float, device=torch.device('cuda'))\n",
        "  off_not_taken = torch.randint(low, high, dim, dtype=torch.float, device=torch.device('cuda'))\n",
        "  not_taken_trials = on_not_taken + off_not_taken\n",
        "\n",
        "  p_on_taken = on_taken / taken_trials\n",
        "  p_off_taken = off_taken / taken_trials\n",
        "\n",
        "  p_on_not_taken = on_not_taken / not_taken_trials\n",
        "  p_off_not_taken = off_taken / taken_trials\n",
        "\n",
        "  return (on_taken, taken_trials,\n",
        "          off_taken, on_not_taken, \n",
        "          not_taken_trials, off_not_taken, \n",
        "          p_on_taken, p_off_taken, \n",
        "          p_on_not_taken, p_off_not_taken)\n"
      ],
      "execution_count": 23,
      "outputs": []
    },
    {
      "cell_type": "code",
      "metadata": {
        "id": "7Qj-OW7M60fO",
        "colab_type": "code",
        "colab": {}
      },
      "source": [
        "def generate_stats(function, low, high, dim):\n",
        "  start = time.time()\n",
        "  if function is np:\n",
        "    (on_taken, taken_trials,\n",
        "     off_taken, on_not_taken,\n",
        "     not_taken_trials, off_not_taken,\n",
        "     p_on_taken, p_off_taken,\n",
        "     p_on_not_taken, p_off_not_taken) = generate_dfs_np(low, high, dim)\n",
        "\n",
        "    p_hat_on = function.divide((on_taken + on_not_taken),\n",
        "                        taken_trials + not_taken_trials)\n",
        "    p_hat_off = function.divide((off_taken + off_not_taken),\n",
        "                          taken_trials + not_taken_trials)\n",
        "    \n",
        "    test_statistic_on = function.divide((p_on_taken - p_on_not_taken),\n",
        "                                  function.sqrt(p_hat_on * (1 - p_hat_on) * (\n",
        "                                      1. / taken_trials + 1. / not_taken_trials)))\n",
        "    test_statistic_off = function.divide((p_off_taken - p_off_not_taken),\n",
        "                                  function.sqrt(p_hat_off * (1 - p_hat_off) * (\n",
        "                                      1. / taken_trials + 1. / not_taken_trials)))     \n",
        "\n",
        "  elif function is torch:\n",
        "    (on_taken, taken_trials,\n",
        "     off_taken, on_not_taken,\n",
        "     not_taken_trials, off_not_taken,\n",
        "     p_on_taken, p_off_taken,\n",
        "     p_on_not_taken, p_off_not_taken) = generate_dfs_cuda(low, high, dim)\n",
        "  \n",
        "    p_hat_on = torch.div((on_taken + on_not_taken),\n",
        "                        taken_trials + not_taken_trials)\n",
        "    p_hat_off = torch.div((off_taken + off_not_taken),\n",
        "                          taken_trials + not_taken_trials)\n",
        "    \n",
        "    test_statistic_on = torch.div((p_on_taken - p_on_not_taken),\n",
        "                                  torch.sqrt(p_hat_on * (1 - p_hat_on) * (\n",
        "                                      1. / taken_trials + 1. / not_taken_trials)))\n",
        "    test_statistic_off = torch.div((p_off_taken - p_off_not_taken),\n",
        "                                  torch.sqrt(p_hat_off * (1 - p_hat_off) * (\n",
        "                                      1. / taken_trials + 1. / not_taken_trials)))\n",
        "  p_values_pos = -test_statistic_on\n",
        "  p_values_neg = -test_statistic_off\n",
        "\n",
        "  duration = time.time() - start\n",
        "  \n",
        "  return p_values_pos, p_values_neg, duration"
      ],
      "execution_count": 24,
      "outputs": []
    },
    {
      "cell_type": "code",
      "metadata": {
        "id": "j2SRlyz49KU1",
        "colab_type": "code",
        "colab": {
          "base_uri": "https://localhost:8080/",
          "height": 34
        },
        "outputId": "b1a6ec52-a7c2-44e2-e6ff-5e6af9903da6"
      },
      "source": [
        "start = time.time()\n",
        "\n",
        "(on_taken, taken_trials, \n",
        " off_taken, on_not_taken, \n",
        " not_taken_trials, off_not_taken, \n",
        " p_on_taken, p_off_taken, \n",
        " p_on_not_taken, p_off_not_taken) = generate_dfs_np(10**5, 10**6, (1,))\n",
        "\n",
        "time.time() - start"
      ],
      "execution_count": 25,
      "outputs": [
        {
          "output_type": "execute_result",
          "data": {
            "text/plain": [
              "0.0007252693176269531"
            ]
          },
          "metadata": {
            "tags": []
          },
          "execution_count": 25
        }
      ]
    },
    {
      "cell_type": "code",
      "metadata": {
        "id": "pqL9N8BeLPMw",
        "colab_type": "code",
        "colab": {
          "base_uri": "https://localhost:8080/",
          "height": 34
        },
        "outputId": "970f2cd5-1482-4adb-9810-7bd28d3c2347"
      },
      "source": [
        "start = time.time()\n",
        "\n",
        "(on_taken, taken_trials,\n",
        " off_taken, on_not_taken,\n",
        " not_taken_trials, off_not_taken,\n",
        " p_on_taken, p_off_taken,\n",
        " p_on_not_taken, p_off_not_taken) = generate_dfs_cuda(10**5, 10**6, (1,))\n",
        "\n",
        "time.time() - start"
      ],
      "execution_count": 26,
      "outputs": [
        {
          "output_type": "execute_result",
          "data": {
            "text/plain": [
              "0.0008890628814697266"
            ]
          },
          "metadata": {
            "tags": []
          },
          "execution_count": 26
        }
      ]
    },
    {
      "cell_type": "code",
      "metadata": {
        "id": "Z2KSnA1oAuqQ",
        "colab_type": "code",
        "colab": {
          "base_uri": "https://localhost:8080/",
          "height": 190
        },
        "outputId": "f7c06e9d-8934-4bef-b7fd-8807a7fdba8f"
      },
      "source": [
        "a = torch.randint(10**10, 10**11, (10000,600), dtype=torch.float, device=torch.device('cuda'))\n",
        "b = torch.randint(10**10, 10**11, (10000,600), dtype=torch.float, device=torch.device('cuda'))\n",
        "\n",
        "# comparing * to torch.mul:\n",
        "\n",
        "start = time.time()\n",
        "c = a * b\n",
        "end1 = time.time() - start\n",
        "\n",
        "start = time.time()\n",
        "d = torch.mul(a, b)\n",
        "end2 = time.time() - start\n",
        "\n",
        "print(end1, end2)\n",
        "\n",
        "## equivalent averaged over multiple trials, only thing that matters is being on GPU."
      ],
      "execution_count": 27,
      "outputs": [
        {
          "output_type": "stream",
          "text": [
            "0.0008692741394042969 0.004145622253417969\n"
          ],
          "name": "stdout"
        },
        {
          "output_type": "stream",
          "text": [
            "/usr/local/lib/python3.6/dist-packages/ipykernel_launcher.py:1: UserWarning: from is out of bounds [-(2^24), 2^24]. Due to precision limitations float can support discrete uniform distribution only within this range. This warning will become an error in version 1.7 release, please fix the code in advance (Triggered internally at  /pytorch/aten/src/ATen/native/DistributionTemplates.h:90.)\n",
            "  \"\"\"Entry point for launching an IPython kernel.\n",
            "/usr/local/lib/python3.6/dist-packages/ipykernel_launcher.py:1: UserWarning: to - 1 is out of bounds [-(2^24), 2^24]. Due to precision limitations float can support discrete uniform distribution only within this range. This warning will become an error in version 1.7 release, please fix the code in advance (Triggered internally at  /pytorch/aten/src/ATen/native/DistributionTemplates.h:90.)\n",
            "  \"\"\"Entry point for launching an IPython kernel.\n",
            "/usr/local/lib/python3.6/dist-packages/ipykernel_launcher.py:2: UserWarning: from is out of bounds [-(2^24), 2^24]. Due to precision limitations float can support discrete uniform distribution only within this range. This warning will become an error in version 1.7 release, please fix the code in advance (Triggered internally at  /pytorch/aten/src/ATen/native/DistributionTemplates.h:90.)\n",
            "  \n",
            "/usr/local/lib/python3.6/dist-packages/ipykernel_launcher.py:2: UserWarning: to - 1 is out of bounds [-(2^24), 2^24]. Due to precision limitations float can support discrete uniform distribution only within this range. This warning will become an error in version 1.7 release, please fix the code in advance (Triggered internally at  /pytorch/aten/src/ATen/native/DistributionTemplates.h:90.)\n",
            "  \n"
          ],
          "name": "stderr"
        }
      ]
    },
    {
      "cell_type": "code",
      "metadata": {
        "id": "NKhYQf7LF4yU",
        "colab_type": "code",
        "colab": {
          "base_uri": "https://localhost:8080/",
          "height": 34
        },
        "outputId": "758fc145-ae74-4f31-81a2-c30a87c04a79"
      },
      "source": [
        "# run it with numpy dim (1,)\n",
        "\n",
        "start = time.time()\n",
        "for i in range(10000):\n",
        "  generate_stats(function=np, low=10**5, high=10**6, dim=(1,))\n",
        "\n",
        "time.time() - start"
      ],
      "execution_count": 28,
      "outputs": [
        {
          "output_type": "execute_result",
          "data": {
            "text/plain": [
              "0.7445907592773438"
            ]
          },
          "metadata": {
            "tags": []
          },
          "execution_count": 28
        }
      ]
    },
    {
      "cell_type": "code",
      "metadata": {
        "id": "247ntPaADntr",
        "colab_type": "code",
        "colab": {
          "base_uri": "https://localhost:8080/",
          "height": 34
        },
        "outputId": "46f229c4-e915-4a24-b403-dd298f84a223"
      },
      "source": [
        "# run it with pytorch\n",
        "\n",
        "start = time.time()\n",
        "for i in range(10000):\n",
        "  generate_stats(function=torch, low=10**5, high=10**6, dim=(1,))\n",
        "\n",
        "time.time() - start"
      ],
      "execution_count": 29,
      "outputs": [
        {
          "output_type": "execute_result",
          "data": {
            "text/plain": [
              "4.346864461898804"
            ]
          },
          "metadata": {
            "tags": []
          },
          "execution_count": 29
        }
      ]
    },
    {
      "cell_type": "code",
      "metadata": {
        "id": "lx964YW4F-Mw",
        "colab_type": "code",
        "colab": {
          "base_uri": "https://localhost:8080/",
          "height": 34
        },
        "outputId": "28a174a4-9bf0-4a33-bb55-6f5f1aabb351"
      },
      "source": [
        "# run it with numpy dim (600,)\n",
        "\n",
        "start = time.time()\n",
        "for i in range(10000):\n",
        "  generate_stats(function=np, low=10**5, high=10**6, dim=(600,))\n",
        "\n",
        "time.time() - start"
      ],
      "execution_count": 30,
      "outputs": [
        {
          "output_type": "execute_result",
          "data": {
            "text/plain": [
              "1.2307994365692139"
            ]
          },
          "metadata": {
            "tags": []
          },
          "execution_count": 30
        }
      ]
    },
    {
      "cell_type": "code",
      "metadata": {
        "id": "Eb27u4qqGHfE",
        "colab_type": "code",
        "colab": {
          "base_uri": "https://localhost:8080/",
          "height": 34
        },
        "outputId": "2d08af9e-eb91-4ef9-d672-d6aa49d1c066"
      },
      "source": [
        "# run it with pytorch dim (600,)\n",
        "\n",
        "start = time.time()\n",
        "for i in range(10000):\n",
        "  generate_stats(function=torch, low=10**5, high=10**6, dim=(600,))\n",
        "\n",
        "time.time() - start"
      ],
      "execution_count": 31,
      "outputs": [
        {
          "output_type": "execute_result",
          "data": {
            "text/plain": [
              "4.382487058639526"
            ]
          },
          "metadata": {
            "tags": []
          },
          "execution_count": 31
        }
      ]
    },
    {
      "cell_type": "code",
      "metadata": {
        "id": "LC3JBfIIGpqS",
        "colab_type": "code",
        "colab": {
          "base_uri": "https://localhost:8080/",
          "height": 34
        },
        "outputId": "5b0a54e9-10de-4019-8064-84e8857f0689"
      },
      "source": [
        "# run it with numpy dim (10**5)\n",
        "\n",
        "start = time.time()\n",
        "for i in range(10000):\n",
        "  generate_stats(function=np, low=10**5, high=10**6, dim=(10**5,))\n",
        "\n",
        "time.time() - start"
      ],
      "execution_count": 32,
      "outputs": [
        {
          "output_type": "execute_result",
          "data": {
            "text/plain": [
              "96.94124388694763"
            ]
          },
          "metadata": {
            "tags": []
          },
          "execution_count": 32
        }
      ]
    },
    {
      "cell_type": "code",
      "metadata": {
        "id": "wUfUJ-9pGsMv",
        "colab_type": "code",
        "colab": {
          "base_uri": "https://localhost:8080/",
          "height": 34
        },
        "outputId": "c7c424d9-9a2e-4643-81f3-c5fa00a6dabe"
      },
      "source": [
        "# run it with pytorch with dim (10**5)\n",
        "\n",
        "start = time.time()\n",
        "for i in range(10000):\n",
        "  generate_stats(function=torch, low=10**5, high=10**6, dim=(10**5,))\n",
        "\n",
        "time.time() - start"
      ],
      "execution_count": 33,
      "outputs": [
        {
          "output_type": "execute_result",
          "data": {
            "text/plain": [
              "4.314376354217529"
            ]
          },
          "metadata": {
            "tags": []
          },
          "execution_count": 33
        }
      ]
    },
    {
      "cell_type": "code",
      "metadata": {
        "id": "-bJiiBM1HH1g",
        "colab_type": "code",
        "colab": {
          "base_uri": "https://localhost:8080/",
          "height": 136
        },
        "outputId": "9931e62d-d338-4f26-ffbd-257f458c4f07"
      },
      "source": [
        "###---> HERE run it with numpy with dimensions accross orders (dims: 10^n) of magnitude.\n",
        "\n",
        "stats_np = []\n",
        "for i in range(7):\n",
        "  start = time.time()\n",
        "  for j in range(10000):\n",
        "    generate_stats(function=np, low=10**5, high=10**6, dim=(10**i,))\n",
        "  end = time.time() - start\n",
        "  stats_np.append(end)\n",
        "\n",
        "  print('np (cpu) time for order of magnitude: ', i, end)"
      ],
      "execution_count": 48,
      "outputs": [
        {
          "output_type": "stream",
          "text": [
            "np (cpu) time for order of magnitude:  0 0.7077023983001709\n",
            "np (cpu) time for order of magnitude:  1 0.7185628414154053\n",
            "np (cpu) time for order of magnitude:  2 0.7710311412811279\n",
            "np (cpu) time for order of magnitude:  3 1.4613230228424072\n",
            "np (cpu) time for order of magnitude:  4 7.979762077331543\n",
            "np (cpu) time for order of magnitude:  5 94.70481324195862\n",
            "np (cpu) time for order of magnitude:  6 974.6972246170044\n"
          ],
          "name": "stdout"
        }
      ]
    },
    {
      "cell_type": "code",
      "metadata": {
        "id": "LUy1jN-PHpAd",
        "colab_type": "code",
        "colab": {
          "base_uri": "https://localhost:8080/",
          "height": 136
        },
        "outputId": "56b05d93-2e22-402c-b8fa-b17dd5582f81"
      },
      "source": [
        "# run it with torch with dimesions accross orders (dims: 10^n) of magnitude.\n",
        "\n",
        "stats_torch = []\n",
        "for i in range(7):\n",
        "  start = time.time()\n",
        "  for j in range(10000):\n",
        "    generate_stats(function=torch, low=10**5, high=10**6, dim=(10**i,))\n",
        "  end = time.time() - start\n",
        "  stats_torch.append(end)\n",
        "\n",
        "  print('torch (gpu) time for order of magnitude ' , i, end)\n"
      ],
      "execution_count": 50,
      "outputs": [
        {
          "output_type": "stream",
          "text": [
            "torch (gpu) time for order of magnitude  0 4.165910482406616\n",
            "torch (gpu) time for order of magnitude  1 4.255849123001099\n",
            "torch (gpu) time for order of magnitude  2 4.211747884750366\n",
            "torch (gpu) time for order of magnitude  3 4.185648202896118\n",
            "torch (gpu) time for order of magnitude  4 4.233033895492554\n",
            "torch (gpu) time for order of magnitude  5 4.256673097610474\n",
            "torch (gpu) time for order of magnitude  6 8.912560224533081\n"
          ],
          "name": "stdout"
        }
      ]
    },
    {
      "cell_type": "code",
      "metadata": {
        "id": "p0jAHOiPIUMk",
        "colab_type": "code",
        "colab": {
          "base_uri": "https://localhost:8080/",
          "height": 136
        },
        "outputId": "7fad0f51-6ae9-4bad-ffed-a3ff740be49c"
      },
      "source": [
        "stats_np"
      ],
      "execution_count": 51,
      "outputs": [
        {
          "output_type": "execute_result",
          "data": {
            "text/plain": [
              "[0.7077023983001709,\n",
              " 0.7185628414154053,\n",
              " 0.7710311412811279,\n",
              " 1.4613230228424072,\n",
              " 7.979762077331543,\n",
              " 94.70481324195862,\n",
              " 974.6972246170044]"
            ]
          },
          "metadata": {
            "tags": []
          },
          "execution_count": 51
        }
      ]
    },
    {
      "cell_type": "code",
      "metadata": {
        "id": "VUMKjzEi4lV8",
        "colab_type": "code",
        "colab": {
          "base_uri": "https://localhost:8080/",
          "height": 296
        },
        "outputId": "91b66c6a-f5b1-432e-cf72-e778d7cb46a9"
      },
      "source": [
        "x_axis = np.arange(0, 7, 1)\n",
        "\n",
        "plt.xlabel('order of magnitude')\n",
        "plt.ylabel('time taken (seconds)')\n",
        "\n",
        "plt.plot(x_axis, stats_np)\n",
        "plt.plot(x_axis, stats_torch)\n",
        "\n",
        "plt.legend([\"CPU, numpy\", \"GPU, torch\"])"
      ],
      "execution_count": 62,
      "outputs": [
        {
          "output_type": "execute_result",
          "data": {
            "text/plain": [
              "<matplotlib.legend.Legend at 0x7fc2c4d77518>"
            ]
          },
          "metadata": {
            "tags": []
          },
          "execution_count": 62
        },
        {
          "output_type": "display_data",
          "data": {
            "image/png": "[encoded data removed]",
            "text/plain": [
              "<Figure size 432x288 with 1 Axes>"
            ]
          },
          "metadata": {
            "tags": [],
            "needs_background": "light"
          }
        }
      ]
    },
    {
      "cell_type": "code",
      "metadata": {
        "id": "IJUNIE-v3wp_",
        "colab_type": "code",
        "colab": {
          "base_uri": "https://localhost:8080/",
          "height": 85
        },
        "outputId": "cf05712f-e25e-4c92-8506-ef48c9e2d887"
      },
      "source": [
        "# run it with numpy with dimensions accross orders (dims: 10^(n) x 10^(n)) of magnitude.\n",
        "\n",
        "stats_np_2 = []\n",
        "for i in range(0,4):\n",
        "  start = time.time()\n",
        "  for j in range(10000):\n",
        "    generate_stats(function=np, low=10**5, high=10**6, dim=(10**i,10**i))\n",
        "  end = time.time() - start\n",
        "  stats_np_2.append(end)\n",
        "\n",
        "  print('np (cpu) time for order of magnitude: ', i*i, end)"
      ],
      "execution_count": 56,
      "outputs": [
        {
          "output_type": "stream",
          "text": [
            "np (cpu) time for order of magnitude:  0 0.7765994071960449\n",
            "np (cpu) time for order of magnitude:  1 0.8302211761474609\n",
            "np (cpu) time for order of magnitude:  4 7.903716802597046\n",
            "np (cpu) time for order of magnitude:  9 984.3678810596466\n"
          ],
          "name": "stdout"
        }
      ]
    },
    {
      "cell_type": "code",
      "metadata": {
        "id": "47Z2JIzg4AkJ",
        "colab_type": "code",
        "colab": {
          "base_uri": "https://localhost:8080/",
          "height": 85
        },
        "outputId": "f97f1751-5e8e-42d5-d7c5-b784f940e6c6"
      },
      "source": [
        "# run it with torch with dimensions accross orders (10^(n) x 10^(n)) of magnitude.\n",
        "\n",
        "stats_torch_2 = []\n",
        "for i in range(0,4):\n",
        "  start = time.time()\n",
        "  for j in range(10000):\n",
        "    generate_stats(function=torch, low=10**5, high=10**6, dim=(10**i,10**i))\n",
        "  end = time.time() - start\n",
        "  stats_torch_2.append(end)\n",
        "\n",
        "  print('torch (gpu) time for order of magnitude: ', i*i, end)"
      ],
      "execution_count": 57,
      "outputs": [
        {
          "output_type": "stream",
          "text": [
            "torch (gpu) time for order of magnitude:  0 4.232057809829712\n",
            "torch (gpu) time for order of magnitude:  1 4.239463567733765\n",
            "torch (gpu) time for order of magnitude:  4 4.331871032714844\n",
            "torch (gpu) time for order of magnitude:  9 8.925877332687378\n"
          ],
          "name": "stdout"
        }
      ]
    },
    {
      "cell_type": "code",
      "metadata": {
        "id": "_YDkn1O8H5aG",
        "colab_type": "code",
        "colab": {
          "base_uri": "https://localhost:8080/",
          "height": 296
        },
        "outputId": "6edbbcc2-06f3-472a-a92f-a1ac7f4d5767"
      },
      "source": [
        "x_axis = np.arange(0, 4, 1)\n",
        "\n",
        "plt.xlabel('order of magnitude')\n",
        "plt.ylabel('time taken (seconds)')\n",
        "\n",
        "plt.plot(x_axis, stats_np_2)\n",
        "plt.plot(x_axis, stats_torch_2)\n",
        "\n",
        "plt.legend([\"CPU, numpy\", \"GPU, torch\"])"
      ],
      "execution_count": 60,
      "outputs": [
        {
          "output_type": "execute_result",
          "data": {
            "text/plain": [
              "<matplotlib.legend.Legend at 0x7fc2c4c4d860>"
            ]
          },
          "metadata": {
            "tags": []
          },
          "execution_count": 60
        },
        {
          "output_type": "display_data",
          "data": {
            "image/png": "[encoded data removed]",
            "text/plain": [
              "<Figure size 432x288 with 1 Axes>"
            ]
          },
          "metadata": {
            "tags": [],
            "needs_background": "light"
          }
        }
      ]
    }
  ]
}